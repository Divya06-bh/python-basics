{
  "nbformat": 4,
  "nbformat_minor": 0,
  "metadata": {
    "colab": {
      "provenance": []
    },
    "kernelspec": {
      "name": "python3",
      "display_name": "Python 3"
    },
    "language_info": {
      "name": "python"
    }
  },
  "cells": [
    {
      "cell_type": "markdown",
      "source": [
        "# **python basics assignment- THEORATICAL ANS**\n",
        "\n",
        "ques1: python is a high level, interpreted programming language known for irs simplicity, verstaility. python supports multiple programming paradigms, including object oriented, procdeural and functional programming.\n",
        "why is python popular?\n",
        "1) simple and readable syntax\n",
        "2) wide range of applications\n",
        "3) large standard library\n",
        "4) strong community support\n",
        "\n",
        "ques2: an interpreter in python is a program that reads and executes python code line by line, converting it into machine-understadable instructions at runtime.\n",
        "\n",
        "ques3: predefined keywords in python re reserved words that have special meaning in the language. these words are part of python's syntax and grammar, and you cannot use them as variable names, function names. for example: if, else, elif, while, for, break, continue.\n",
        "\n",
        "ques4: no keywords cannot be used as variable names in python.\n",
        "\n",
        "ques5:mutability in python refers to whether the value of an object can be changed after it is created. mutable objects can be changed in place(without creating a new object). example: list, dict, set\n",
        "\n",
        "ques6: in python, lists are mutable, meaning their contents can be changed after creation. you can add, remove or modify elements in a list without creating a new object. this is because list are designed to handle collection of items that might need to change during the execution of a program. on the other hand, tuples are immutable, meaning once a tuple is created, its contents cannot be chnaged. this includes not being able to add, remove or alter elments.\n",
        "\n",
        "ques 7: the == operator checks whether the values of two variables are equal, even if they are stored in different locations in memory. in contrast, the is operator checks whether two variables refer to the exact same object in memory.\n",
        "\n",
        "ques8: Logical operators in Python are used to combine conditional statements. The three main logical operators are and, or, and not. The and operator returns True only if both conditions are true, or returns True if at least one condition is true, and not is used to reverse the truth value of a condition. These operators are commonly used in decision-making structures like if statements.\n",
        "\n",
        "ques 9: What is type casting in Python?\n",
        "Type casting in Python is the process of converting one data type into another. For example, you can convert a string to an integer using int(\"123\"), or a float to a string using str(3.14). Type casting is useful when you need to perform operations between different data types or when user input (which is usually a string) needs to be converted for computation.\n",
        "\n",
        "ques 10: what is the difference between implicit and explicit type casting?\n",
        "Implicit type casting happens automatically when Python converts one data type to another during an operation, without the programmer’s involvement. For example, when you add an integer and a float, the result is automatically a float. Explicit type casting, on the other hand, is done manually by the programmer using functions like int(), float(), or str() to convert data from one type to another intentionally.\n",
        "\n",
        "ques 11: What is the purpose of conditional statements in Python?\n",
        "Conditional statements in Python allow a program to make decisions and execute specific blocks of code based on certain conditions. These include if, elif, and else statements. They help control the flow of a program by evaluating expressions and executing code only when certain conditions are met, making programs dynamic and responsive to different inputs.\n",
        "\n",
        "ques12: How does the elif statement work?\n",
        "The elif statement stands for “else if” and is used when you want to check multiple conditions after an initial if statement. If the first if condition is false, Python checks the elif condition. If it is true, it executes that block. If none of the if or elif conditions are true, the optional else block is executed. This structure helps manage complex decision-making with clear, readable code.\n",
        "\n",
        "ques 13: What is the difference between for and while loops?\n",
        "The for loop is used when you know in advance how many times you want to execute a block of code. It is often used to iterate over a sequence like a list or range. A while loop, on the other hand, is used when the number of iterations is not known beforehand, and it continues as long as a specified condition remains true. While loops are better when you depend on user input or dynamic conditions to stop.\n",
        "\n",
        "ques 14:Describe a scenario where a while loop is more suitable than a for loop.\n",
        "A while loop is more suitable when the number of iterations is not predetermined. For example, if you're prompting a user to enter a password and want to keep asking until they enter the correct one, a while loop is ideal. The loop continues as long as the condition (password is incorrect) remains true, and stops once the correct password is entered."
      ],
      "metadata": {
        "id": "9ULfCrBh5fQ6"
      }
    },
    {
      "cell_type": "code",
      "source": [
        "#python basics practical answers"
      ],
      "metadata": {
        "id": "VMdNwkUO-dcn"
      },
      "execution_count": 1,
      "outputs": []
    },
    {
      "cell_type": "markdown",
      "source": [],
      "metadata": {
        "id": "8JjXy7WDYJpL"
      }
    },
    {
      "cell_type": "code",
      "source": [
        "# ques1:\n",
        "print (\" Hello World!\")"
      ],
      "metadata": {
        "colab": {
          "base_uri": "https://localhost:8080/"
        },
        "id": "kWjG3scV-101",
        "outputId": "8d2bcf7e-0ee4-4223-8692-8d3903ef2fba"
      },
      "execution_count": 3,
      "outputs": [
        {
          "output_type": "stream",
          "name": "stdout",
          "text": [
            " Hello World!\n"
          ]
        }
      ]
    },
    {
      "cell_type": "code",
      "source": [
        "# ques2:\n",
        "name = \"Divya Bhatla\"\n",
        "age = 19\n",
        "print(\"Name:\", name)\n",
        "print(\"age:\", age)"
      ],
      "metadata": {
        "colab": {
          "base_uri": "https://localhost:8080/"
        },
        "id": "raCjVfZt--sr",
        "outputId": "2e8aeba0-4025-4a6a-c9dd-549598e7b786"
      },
      "execution_count": 5,
      "outputs": [
        {
          "output_type": "stream",
          "name": "stdout",
          "text": [
            "Name: Divya Bhatla\n",
            "age: 19\n"
          ]
        }
      ]
    },
    {
      "cell_type": "code",
      "source": [
        "#ques3:\n",
        "import keyword\n",
        "print(\"python keywords are:\")\n",
        "print(keyword.kwlist)"
      ],
      "metadata": {
        "colab": {
          "base_uri": "https://localhost:8080/"
        },
        "id": "e8_f37jd_WnP",
        "outputId": "61effad5-0d31-4f14-9fd2-8da2429dfb2d"
      },
      "execution_count": 6,
      "outputs": [
        {
          "output_type": "stream",
          "name": "stdout",
          "text": [
            "python keywords are:\n",
            "['False', 'None', 'True', 'and', 'as', 'assert', 'async', 'await', 'break', 'class', 'continue', 'def', 'del', 'elif', 'else', 'except', 'finally', 'for', 'from', 'global', 'if', 'import', 'in', 'is', 'lambda', 'nonlocal', 'not', 'or', 'pass', 'raise', 'return', 'try', 'while', 'with', 'yield']\n"
          ]
        }
      ]
    },
    {
      "cell_type": "code",
      "source": [
        "#ques4:\n",
        "import keyword\n",
        "word = input(\"enter a word: \")\n",
        "if keyword.iskeyword(word):\n",
        "    print(word, \"is a keyword\")\n",
        "else:\n",
        "    print(word, \"is not a keyword\")"
      ],
      "metadata": {
        "colab": {
          "base_uri": "https://localhost:8080/"
        },
        "id": "cHh1Sulo_pC0",
        "outputId": "026b3215-a313-4aed-fa10-67e103b43a37"
      },
      "execution_count": 9,
      "outputs": [
        {
          "output_type": "stream",
          "name": "stdout",
          "text": [
            "enter a word: break\n",
            "break is a keyword\n"
          ]
        }
      ]
    },
    {
      "cell_type": "code",
      "source": [
        "#ques5:\n",
        "#list mutuable\n",
        "my_list = [1, 2, 3]\n",
        "my_list[0] = 4\n",
        "print(\"modified list:\",my_list)\n",
        "\n",
        "#tuple immutable\n",
        "my_tuple = (1, 2, 3)\n",
        "my_tuple[0] = 4\n",
        "print(\"cannot modify a tuple:\", my_tuple)"
      ],
      "metadata": {
        "colab": {
          "base_uri": "https://localhost:8080/",
          "height": 211
        },
        "id": "bjRLDC4C_tD3",
        "outputId": "c32f42c2-7d93-47cd-dd07-c2e87c35c2d3"
      },
      "execution_count": 10,
      "outputs": [
        {
          "output_type": "stream",
          "name": "stdout",
          "text": [
            "modified list: [4, 2, 3]\n"
          ]
        },
        {
          "output_type": "error",
          "ename": "TypeError",
          "evalue": "'tuple' object does not support item assignment",
          "traceback": [
            "\u001b[0;31m---------------------------------------------------------------------------\u001b[0m",
            "\u001b[0;31mTypeError\u001b[0m                                 Traceback (most recent call last)",
            "\u001b[0;32m/tmp/ipython-input-10-1201700118.py\u001b[0m in \u001b[0;36m<cell line: 0>\u001b[0;34m()\u001b[0m\n\u001b[1;32m      7\u001b[0m \u001b[0;31m#tuple immutable\u001b[0m\u001b[0;34m\u001b[0m\u001b[0;34m\u001b[0m\u001b[0m\n\u001b[1;32m      8\u001b[0m \u001b[0mmy_tuple\u001b[0m \u001b[0;34m=\u001b[0m \u001b[0;34m(\u001b[0m\u001b[0;36m1\u001b[0m\u001b[0;34m,\u001b[0m \u001b[0;36m2\u001b[0m\u001b[0;34m,\u001b[0m \u001b[0;36m3\u001b[0m\u001b[0;34m)\u001b[0m\u001b[0;34m\u001b[0m\u001b[0;34m\u001b[0m\u001b[0m\n\u001b[0;32m----> 9\u001b[0;31m \u001b[0mmy_tuple\u001b[0m\u001b[0;34m[\u001b[0m\u001b[0;36m0\u001b[0m\u001b[0;34m]\u001b[0m \u001b[0;34m=\u001b[0m \u001b[0;36m4\u001b[0m\u001b[0;34m\u001b[0m\u001b[0;34m\u001b[0m\u001b[0m\n\u001b[0m\u001b[1;32m     10\u001b[0m \u001b[0mprint\u001b[0m\u001b[0;34m(\u001b[0m\u001b[0;34m\"cannot modify a tuple:\"\u001b[0m\u001b[0;34m,\u001b[0m \u001b[0mmy_tuple\u001b[0m\u001b[0;34m)\u001b[0m\u001b[0;34m\u001b[0m\u001b[0;34m\u001b[0m\u001b[0m\n",
            "\u001b[0;31mTypeError\u001b[0m: 'tuple' object does not support item assignment"
          ]
        }
      ]
    },
    {
      "cell_type": "code",
      "source": [
        "#ques6:\n",
        "def modify_list(l):\n",
        "  l[0]= 999 #mutable\n",
        "def modify_int(x):\n",
        "  x = 999 #immutable\n",
        "\n",
        "list = [1,2,3]\n",
        "num = 10\n",
        "modify_list(list)\n",
        "modify_int(num)\n",
        "print(list)\n",
        "print(num)"
      ],
      "metadata": {
        "colab": {
          "base_uri": "https://localhost:8080/"
        },
        "id": "H9Cgb9NlAVFV",
        "outputId": "0887f985-1419-4b57-a798-31e57390ef38"
      },
      "execution_count": 11,
      "outputs": [
        {
          "output_type": "stream",
          "name": "stdout",
          "text": [
            "[999, 2, 3]\n",
            "10\n"
          ]
        }
      ]
    },
    {
      "cell_type": "code",
      "source": [
        "#ques7:\n",
        "a = int(input(\"enter first number:\"))\n",
        "b = int(input(\"enter second number:\"))\n",
        "print(\"addition:\", a+b)\n",
        "print(\"subtraction:\", a-b)\n",
        "print(\"multiplication:\", a*b)\n",
        "print(\"division:\", a/b if b!= 0 else \"undefined\")"
      ],
      "metadata": {
        "colab": {
          "base_uri": "https://localhost:8080/"
        },
        "id": "AyFpoMdNA0n3",
        "outputId": "b51ac014-9da0-4d90-a63a-a91d47b6ed20"
      },
      "execution_count": 12,
      "outputs": [
        {
          "output_type": "stream",
          "name": "stdout",
          "text": [
            "enter first number:2\n",
            "enter second number:6\n",
            "addition: 8\n",
            "subtraction: -4\n",
            "multiplication: 12\n",
            "division: 0.3333333333333333\n"
          ]
        }
      ]
    },
    {
      "cell_type": "code",
      "source": [
        "#ques8:\n",
        "a = int(input(\"enter a number\"))\n",
        "if a > 0 and a % 2 == 0:\n",
        "  print(\"positive and even\")\n",
        "else:\n",
        "  print(\"does not satidy both conditions\")"
      ],
      "metadata": {
        "colab": {
          "base_uri": "https://localhost:8080/"
        },
        "id": "l7G337c2BVtE",
        "outputId": "f92c0d70-bad7-446e-c623-a02146697ffd"
      },
      "execution_count": 13,
      "outputs": [
        {
          "output_type": "stream",
          "name": "stdout",
          "text": [
            "enter a number4\n",
            "positive and even\n"
          ]
        }
      ]
    },
    {
      "cell_type": "code",
      "source": [
        "#ques9:\n",
        "user_input = input(\"enter a number:\")\n",
        "print(\"as integer:\", int(float(user_input)))\n",
        "print(\"as float:\", float(user_input))\n",
        "print(\"as boolean:\", bool(user_input))"
      ],
      "metadata": {
        "colab": {
          "base_uri": "https://localhost:8080/"
        },
        "id": "rp1ogFSMBz2d",
        "outputId": "631e673d-2444-423b-996f-6c63c8083220"
      },
      "execution_count": 15,
      "outputs": [
        {
          "output_type": "stream",
          "name": "stdout",
          "text": [
            "enter a number:5\n",
            "as integer: 5\n",
            "as float: 5.0\n",
            "as boolean: True\n"
          ]
        }
      ]
    },
    {
      "cell_type": "code",
      "source": [
        "#ques10:\n",
        "data = [\"1\",\"2.5\",\"True\"]\n",
        "converted= [int(data[0]), float(data[1]), bool(data[2])]\n",
        "print(\"converted list:\", converted)"
      ],
      "metadata": {
        "colab": {
          "base_uri": "https://localhost:8080/"
        },
        "id": "6fRrZUJbCPf7",
        "outputId": "8b587969-9852-4e50-8209-e176aa0aa7e7"
      },
      "execution_count": 16,
      "outputs": [
        {
          "output_type": "stream",
          "name": "stdout",
          "text": [
            "converted list: [1, 2.5, True]\n"
          ]
        }
      ]
    },
    {
      "cell_type": "code",
      "source": [
        "#ques11:\n",
        "num = int(input(\"enter a number:\"))\n",
        "if num > 0:\n",
        "  print(\"positive\")\n",
        "elif num < 0:\n",
        "  print(\"negative\")\n",
        "else:\n",
        "  print(\"zero\")"
      ],
      "metadata": {
        "colab": {
          "base_uri": "https://localhost:8080/"
        },
        "id": "ak_1Orc6CvEi",
        "outputId": "31b8e03d-c960-4ce4-d04a-cc16faad8ef9"
      },
      "execution_count": 17,
      "outputs": [
        {
          "output_type": "stream",
          "name": "stdout",
          "text": [
            "enter a number:5\n",
            "positive\n"
          ]
        }
      ]
    },
    {
      "cell_type": "code",
      "source": [
        "#ques12:\n",
        "for i in range(1,11):\n",
        "  print(i, end=\" \")"
      ],
      "metadata": {
        "colab": {
          "base_uri": "https://localhost:8080/"
        },
        "id": "5gApbStpDE72",
        "outputId": "b67dbd3b-4aa2-45a6-a9db-054e7b459f71"
      },
      "execution_count": 18,
      "outputs": [
        {
          "output_type": "stream",
          "name": "stdout",
          "text": [
            "1 2 3 4 5 6 7 8 9 10 "
          ]
        }
      ]
    },
    {
      "cell_type": "code",
      "source": [
        "#ques13:\n",
        "total = 0\n",
        "for i in range(2, 51, 2):\n",
        "  total += i\n",
        "print(\"sum of even numbers from 1 to 50:\", total)"
      ],
      "metadata": {
        "colab": {
          "base_uri": "https://localhost:8080/"
        },
        "id": "YFTVT0bADPQA",
        "outputId": "3c6e6b96-8ad1-4aa7-e561-776047a25695"
      },
      "execution_count": 19,
      "outputs": [
        {
          "output_type": "stream",
          "name": "stdout",
          "text": [
            "sum of even numbers from 1 to 50: 650\n"
          ]
        }
      ]
    },
    {
      "cell_type": "code",
      "source": [
        "#ques14:\n",
        "s = input(\"enter a string:\")\n",
        "reversed_str = \"\"\n",
        "i = len(s) - 1\n",
        "while i >= 0:\n",
        "  reversed_str += s[i]\n",
        "  i -= 1\n",
        "print(\"reversed string:\", reversed_str)"
      ],
      "metadata": {
        "colab": {
          "base_uri": "https://localhost:8080/"
        },
        "id": "12dwDZ7LDgNW",
        "outputId": "e617c2e7-c959-4939-e0d9-4e907488a0eb"
      },
      "execution_count": 20,
      "outputs": [
        {
          "output_type": "stream",
          "name": "stdout",
          "text": [
            "enter a string:python\n",
            "reversed string: nohtyp\n"
          ]
        }
      ]
    },
    {
      "cell_type": "code",
      "source": [
        "#ques15:\n",
        "num = int(input(\"enter a number:\"))\n",
        "fact = 1\n",
        "i = 1\n",
        "while i<= num:\n",
        "  fact *= i\n",
        "  i += 1\n",
        "print(\"factorial:\", fact)"
      ],
      "metadata": {
        "colab": {
          "base_uri": "https://localhost:8080/"
        },
        "id": "pCKRUSLqD6YI",
        "outputId": "8162c074-42ec-452c-c34e-fdf1f1e37987"
      },
      "execution_count": 21,
      "outputs": [
        {
          "output_type": "stream",
          "name": "stdout",
          "text": [
            "enter a number:5\n",
            "factorial: 120\n"
          ]
        }
      ]
    },
    {
      "cell_type": "code",
      "source": [],
      "metadata": {
        "id": "8eyH7M4mEMdY"
      },
      "execution_count": null,
      "outputs": []
    }
  ]
}